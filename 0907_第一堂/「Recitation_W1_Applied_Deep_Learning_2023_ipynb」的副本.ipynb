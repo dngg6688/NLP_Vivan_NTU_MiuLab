{
  "nbformat": 4,
  "nbformat_minor": 0,
  "metadata": {
    "colab": {
      "provenance": [],
      "gpuType": "T4",
      "include_colab_link": true
    },
    "kernelspec": {
      "name": "python3",
      "display_name": "Python 3"
    },
    "language_info": {
      "name": "python"
    },
    "accelerator": "GPU"
  },
  "cells": [
    {
      "cell_type": "markdown",
      "metadata": {
        "id": "view-in-github",
        "colab_type": "text"
      },
      "source": [
        "<a href=\"https://colab.research.google.com/github/dngg6688/NLP_Vivan_NTU_MiuLab/blob/main/0907_%E7%AC%AC%E4%B8%80%E5%A0%82/%E3%80%8CRecitation_W1_Applied_Deep_Learning_2023_ipynb%E3%80%8D%E7%9A%84%E5%89%AF%E6%9C%AC.ipynb\" target=\"_parent\"><img src=\"https://colab.research.google.com/assets/colab-badge.svg\" alt=\"Open In Colab\"/></a>"
      ]
    },
    {
      "cell_type": "markdown",
      "source": [
        "# Recitation on Development Infrastructure and PyTorch Tutorial\n",
        "\n",
        "## Contents\n",
        "1. Google Colab Basics\n",
        "2. GPU Environment in Colab\n",
        "3. Introduction to PyTorch\n",
        "4. Python Debugging Tools"
      ],
      "metadata": {
        "id": "OU0Kz1xCObIq"
      }
    },
    {
      "cell_type": "code",
      "execution_count": 1,
      "metadata": {
        "colab": {
          "base_uri": "https://localhost:8080/"
        },
        "id": "Ewh2URgYOUrZ",
        "outputId": "79555f35-4dc9-4673-e4ff-6af0b9a8437c"
      },
      "outputs": [
        {
          "output_type": "stream",
          "name": "stdout",
          "text": [
            "Mounted at /content/drive\n"
          ]
        }
      ],
      "source": [
        "### 1. Google Colab Basics\n",
        "# Mount Google Drive\n",
        "from google.colab import drive\n",
        "drive.mount('/content/drive')"
      ]
    },
    {
      "cell_type": "code",
      "source": [
        "from pathlib import Path\n",
        "for path in Path('/content/drive/MyDrive/').glob(\"*\"):\n",
        "  print(path)"
      ],
      "metadata": {
        "id": "PDY9698FRo1I",
        "colab": {
          "base_uri": "https://localhost:8080/"
        },
        "outputId": "93292282-413a-4b29-c1f3-81d368b7ae90"
      },
      "execution_count": 2,
      "outputs": [
        {
          "output_type": "stream",
          "name": "stdout",
          "text": [
            "/content/drive/MyDrive/HTC Dimension Plus\n",
            "/content/drive/MyDrive/Duo Effects Gallery\n",
            "/content/drive/MyDrive/PMP專案管理資料\n",
            "/content/drive/MyDrive/arduino 0912\n",
            "/content/drive/MyDrive/物料標準耗用更新版FAB1 20151028.xlsm\n",
            "/content/drive/MyDrive/Fab Out_10410.xlsm\n",
            "/content/drive/MyDrive/好用程式\n",
            "/content/drive/MyDrive/current_device_params.gdoc\n",
            "/content/drive/MyDrive/Android中文API合集.chm\n",
            "/content/drive/MyDrive/android開發者指南2.chm\n",
            "/content/drive/MyDrive/android 201701\n",
            "/content/drive/MyDrive/我的錄音 #8.wav\n",
            "/content/drive/MyDrive/149380620191693106419.jpg\n",
            "/content/drive/MyDrive/5615_官網資料 (1).txt.gdoc\n",
            "/content/drive/MyDrive/Screenshot_20170513-114419.png\n",
            "/content/drive/MyDrive/Screenshot_20170513-114145.png\n",
            "/content/drive/MyDrive/5615_官網資料.txt.gdoc\n",
            "/content/drive/MyDrive/0028.pdf\n",
            "/content/drive/MyDrive/工作計畫與進度.xlsx\n",
            "/content/drive/MyDrive/原料.docx\n",
            "/content/drive/MyDrive/進貨單.docx\n",
            "/content/drive/MyDrive/謝老闆冰店.docx\n",
            "/content/drive/MyDrive/IMG_20171011_163052_HHT.jpg\n",
            "/content/drive/MyDrive/IMG_20171011_154459_HHT.jpg\n",
            "/content/drive/MyDrive/IMG_20171011_154408_HHT.jpg\n",
            "/content/drive/MyDrive/IMG_20171011_135824_HHT.jpg\n",
            "/content/drive/MyDrive/IMG_20171011_132533_HHT.jpg\n",
            "/content/drive/MyDrive/IMG_20171011_092339.jpg\n",
            "/content/drive/MyDrive/計畫書.docx\n",
            "/content/drive/MyDrive/14161_javaHomework1027.zip\n",
            "/content/drive/MyDrive/14319_SE7ch15.pdf\n",
            "/content/drive/MyDrive/履歷格式-新.doc\n",
            "/content/drive/MyDrive/1.學員簡歷及課程大綱.xlsx\n",
            "/content/drive/MyDrive/IMG_20171103_082339.jpg\n",
            "/content/drive/MyDrive/IMG_20171103_082359.jpg\n",
            "/content/drive/MyDrive/hw\n",
            "/content/drive/MyDrive/記事本\n",
            "/content/drive/MyDrive/1117\n",
            "/content/drive/MyDrive/usecase範例.docx\n",
            "/content/drive/MyDrive/17720_事件名稱1129.docx\n",
            "/content/drive/MyDrive/履歷格式-1211.doc\n",
            "/content/drive/MyDrive/finial.zip\n",
            "/content/drive/MyDrive/Drink1215.7z\n",
            "/content/drive/MyDrive/求職相關\n",
            "/content/drive/MyDrive/NKG_工作申請表2013.12.xls\n",
            "/content/drive/MyDrive/IMG_20180115_193134.jpg\n",
            "/content/drive/MyDrive/IMG_20180119_185624.jpg\n",
            "/content/drive/MyDrive/IMG_20180119_201604.jpg\n",
            "/content/drive/MyDrive/IMG_20180122_213114.jpg\n",
            "/content/drive/MyDrive/yyhsieh\n",
            "/content/drive/MyDrive/電子書籍\n",
            "/content/drive/MyDrive/b.docx\n",
            "/content/drive/MyDrive/Active生命週期.jpg\n",
            "/content/drive/MyDrive/SafeInCloud.db\n",
            "/content/drive/MyDrive/未命名文件 (1).gdoc\n",
            "/content/drive/MyDrive/Screenshot_2018-12-17-09-19-53-278_com.miui.home.png\n",
            "/content/drive/MyDrive/IMG_20190115_192326.jpg\n",
            "/content/drive/MyDrive/.facebook_1547774989424.jpg\n",
            "/content/drive/MyDrive/.facebook_1547775032774.jpg\n",
            "/content/drive/MyDrive/facebook_1549070547379.jpg\n",
            "/content/drive/MyDrive/做的專案\n",
            "/content/drive/MyDrive/project\n",
            "/content/drive/MyDrive/Colab Notebooks\n",
            "/content/drive/MyDrive/徐懷鈺 Yuki【妙妙妙 Fantastic】Official Music Video.mp3\n",
            "/content/drive/MyDrive/徐懷鈺-我是女生 (官方完整版Comix)(HD).mp3\n",
            "/content/drive/MyDrive/未命名文件.gdoc\n",
            "/content/drive/MyDrive/派大AI\n",
            "/content/drive/MyDrive/圖片\n",
            "/content/drive/MyDrive/上課資料\n",
            "/content/drive/MyDrive/ios\n",
            "/content/drive/MyDrive/Untitled0.ipynb\n",
            "/content/drive/MyDrive/Oracle cloud\n",
            "/content/drive/MyDrive/19_Lee_2\n",
            "/content/drive/MyDrive/[SEO 新手包] 1-1.gslides\n",
            "/content/drive/MyDrive/Java Interoperability.gslides\n",
            "/content/drive/MyDrive/Flutter Taipei: 2020 Flutter 線上共學讀書會.gdoc\n",
            "/content/drive/MyDrive/731584_11111.gdoc\n",
            "/content/drive/MyDrive/無標題的試算表.gsheet\n",
            "/content/drive/MyDrive/Chrome Syncable FileSystem\n",
            "/content/drive/MyDrive/Screenshot_2021-03-03-13-44-22-395_com.tencent.mm.jpg\n",
            "/content/drive/MyDrive/Untitled Diagram (1).drawio\n",
            "/content/drive/MyDrive/Untitled Diagram.drawio\n",
            "/content/drive/MyDrive/G1.png\n",
            "/content/drive/MyDrive/EG 球隊開放資料分析  開放資料整理教學 課程講義 (全).pdf\n",
            "/content/drive/MyDrive/My Workouts.gsheet\n",
            "/content/drive/MyDrive/Flight Deals.gsheet\n",
            "/content/drive/MyDrive/Classroom\n",
            "/content/drive/MyDrive/CV36_CV _0731_2 的副本.gdoc\n",
            "/content/drive/MyDrive/CV36_CV _0731 的副本.gdoc\n",
            "/content/drive/MyDrive/python20210804上午.mp4\n",
            "/content/drive/MyDrive/python20210804下午\n",
            "/content/drive/MyDrive/python20210805上午\n",
            "/content/drive/MyDrive/python20210805下午\n",
            "/content/drive/MyDrive/python20210806上午\n",
            "/content/drive/MyDrive/python20210806下午\n",
            "/content/drive/MyDrive/Python資料科學與機器學習入門_南投場.gslides\n",
            "/content/drive/MyDrive/CV36_CV _0821_0828 的副本0904.gdoc\n",
            "/content/drive/MyDrive/CV_L1_04_CNN 的副本.gslides\n",
            "/content/drive/MyDrive/CV_L2_06_tuning (OPTION) 的副本.gslides\n",
            "/content/drive/MyDrive/CV36_CV _0911 的副本(已完成).gdoc\n",
            "/content/drive/MyDrive/CV36_CV _0918 的副本.gdoc\n",
            "/content/drive/MyDrive/0910中階 - 副本.gdoc\n",
            "/content/drive/MyDrive/CV36_CV _0918 的副本0925.gdoc\n",
            "/content/drive/MyDrive/CV36_CV _0918 的副本0925final.gdoc\n",
            "/content/drive/MyDrive/31_08_1影像深度學習應用(I)_Yolo介紹_參考教材 的副本.gslides\n",
            "/content/drive/MyDrive/CV_L3_07_影像深度學習應用 的副本.gslides\n",
            "/content/drive/MyDrive/DL線上聊1017 的副本.gdoc\n",
            "/content/drive/MyDrive/DL線上聊1024 的副本.gdoc\n",
            "/content/drive/MyDrive/apps.gsheet\n",
            "/content/drive/MyDrive/Chap.4  Coroutines 框架開發初探 的副本.gslides\n",
            "/content/drive/MyDrive/Study.docx\n",
            "/content/drive/MyDrive/Report_of_0005.HK.csv\n",
            "/content/drive/MyDrive/22_yuyuHsieh (2).gslides\n",
            "/content/drive/MyDrive/未命名簡報.gslides\n",
            "/content/drive/MyDrive/Machine Learning Hung-Yi, Lee NTU  (1)\n",
            "/content/drive/MyDrive/111JQ01專題簡報參考\n",
            "/content/drive/MyDrive/NLSY97_subset.gsheet\n",
            "/content/drive/MyDrive/NLSY97_Variable_Names_and_Descriptions.gsheet\n",
            "/content/drive/MyDrive/未命名.png\n",
            "/content/drive/MyDrive/Machine Learning Hung-Yi, Lee NTU \n",
            "/content/drive/MyDrive/Redacted_PDF1.pdf\n",
            "/content/drive/MyDrive/履歷格式- wiedu.doc\n",
            "/content/drive/MyDrive/147217016_謝於佑_參加0414考試之雙證件.jpg\n",
            "/content/drive/MyDrive/111年AI資料工程師班01期(學生共用) (1)\n",
            "/content/drive/MyDrive/IMG_20220426_100908.jpg\n",
            "/content/drive/MyDrive/name.png\n",
            "/content/drive/MyDrive/test_features.gsheet\n",
            "/content/drive/MyDrive/sample_submission.gsheet\n",
            "/content/drive/MyDrive/train_data.gsheet\n",
            "/content/drive/MyDrive/學生帳號密碼.gsheet\n",
            "/content/drive/MyDrive/Kaggle_PUBG\n",
            "/content/drive/MyDrive/Knight · SlidesCarnival - 副本 (2).gslides\n",
            "/content/drive/MyDrive/Knight · SlidesCarnival - 副本 (1).gslides\n",
            "/content/drive/MyDrive/Knight · SlidesCarnival - 副本.gslides\n",
            "/content/drive/MyDrive/AI 文創雲端小幫手.gslides\n",
            "/content/drive/MyDrive/users.txt\n",
            "/content/drive/MyDrive/ai-event.log\n",
            "/content/drive/MyDrive/PythonAI.pdf\n",
            "/content/drive/MyDrive/未命名的試算表.gsheet\n",
            "/content/drive/MyDrive/.ipynb_checkpoints\n",
            "/content/drive/MyDrive/0704\n",
            "/content/drive/MyDrive/additional\n",
            "/content/drive/MyDrive/勞動部\n",
            "/content/drive/MyDrive/yolo-v4-tf.keras\n",
            "/content/drive/MyDrive/12_團體專題_第四組\n",
            "/content/drive/MyDrive/02_進模型的圖片\n",
            "/content/drive/MyDrive/「80項SEO檢查列表」的副本.gsheet\n",
            "/content/drive/MyDrive/求職登記表v11105 (1).pdf\n",
            "/content/drive/MyDrive/求職登記表v11105 的副本.gdoc\n",
            "/content/drive/MyDrive/求職登記表v11105 的副本.pdf\n",
            "/content/drive/MyDrive/求職登記表v11105.gdoc\n",
            "/content/drive/MyDrive/求職登記表v11105.pdf\n",
            "/content/drive/MyDrive/AI資料工程師班學員_著作授權同意書.gdoc\n",
            "/content/drive/MyDrive/AI資料工程師班學員_著作授權同意書 的副本.gdoc\n",
            "/content/drive/MyDrive/AI資料工程師班學員_著作授權同意書 的副本.docx\n",
            "/content/drive/MyDrive/履歷格式- wiedu.gdoc\n",
            "/content/drive/MyDrive/111年AI資料工程師班01期(學生共用)\n",
            "/content/drive/MyDrive/319546587_925419531955863_5670326788480995563_n.jpg\n",
            "/content/drive/MyDrive/319634709_5744470185673287_8957761161340831769_n.jpg\n",
            "/content/drive/MyDrive/nlp讀書會.gsheet\n",
            "/content/drive/MyDrive/ChatGPT x Colab 打造聊天機器人 的副本.gslides\n",
            "/content/drive/MyDrive/解密AI黑盒子分享\n",
            "/content/drive/MyDrive/【全端程式】免費電商網站用JSON動畫素材\n",
            "/content/drive/MyDrive/Pytoch\n",
            "/content/drive/MyDrive/ChatGPT basic (v5).pdf\n",
            "/content/drive/MyDrive/第一次工作坊程式碼\n",
            "/content/drive/MyDrive/2023-04-26-邪僻-Moonshot進階使用心得交流.pptx 的副本.pptx\n",
            "/content/drive/MyDrive/0531 KaggleDaysML30.gdoc\n"
          ]
        }
      ]
    },
    {
      "cell_type": "code",
      "source": [
        "!pip show torch\n",
        "# !pip install torch"
      ],
      "metadata": {
        "colab": {
          "base_uri": "https://localhost:8080/"
        },
        "id": "5MCQ2ZztQ6Z6",
        "outputId": "eb2a5c9a-4b6e-4d38-daaa-a84765014e24"
      },
      "execution_count": 4,
      "outputs": [
        {
          "output_type": "stream",
          "name": "stdout",
          "text": [
            "Name: torch\n",
            "Version: 2.0.1+cu118\n",
            "Summary: Tensors and Dynamic neural networks in Python with strong GPU acceleration\n",
            "Home-page: https://pytorch.org/\n",
            "Author: PyTorch Team\n",
            "Author-email: packages@pytorch.org\n",
            "License: BSD-3\n",
            "Location: /usr/local/lib/python3.10/dist-packages\n",
            "Requires: filelock, jinja2, networkx, sympy, triton, typing-extensions\n",
            "Required-by: fastai, torchaudio, torchdata, torchtext, torchvision, triton\n"
          ]
        }
      ]
    },
    {
      "cell_type": "code",
      "source": [
        "# Check GPU availability with PyTorch\n",
        "import torch\n",
        "\n",
        "print(\"Is CUDA available?\", torch.cuda.is_available())\n",
        "print(\"GPU name:\", torch.cuda.get_device_name(0))\n",
        "\n",
        "# Check GPU details with nvidia-smi\n",
        "!nvidia-smi"
      ],
      "metadata": {
        "colab": {
          "base_uri": "https://localhost:8080/"
        },
        "id": "aFpIA5MpOZd3",
        "outputId": "d41a3507-e0b8-4657-b409-5958edc88501"
      },
      "execution_count": 5,
      "outputs": [
        {
          "output_type": "stream",
          "name": "stdout",
          "text": [
            "Is CUDA available? True\n",
            "GPU name: Tesla T4\n",
            "Thu Sep  7 03:42:44 2023       \n",
            "+-----------------------------------------------------------------------------+\n",
            "| NVIDIA-SMI 525.105.17   Driver Version: 525.105.17   CUDA Version: 12.0     |\n",
            "|-------------------------------+----------------------+----------------------+\n",
            "| GPU  Name        Persistence-M| Bus-Id        Disp.A | Volatile Uncorr. ECC |\n",
            "| Fan  Temp  Perf  Pwr:Usage/Cap|         Memory-Usage | GPU-Util  Compute M. |\n",
            "|                               |                      |               MIG M. |\n",
            "|===============================+======================+======================|\n",
            "|   0  Tesla T4            Off  | 00000000:00:04.0 Off |                    0 |\n",
            "| N/A   59C    P8    12W /  70W |      3MiB / 15360MiB |      0%      Default |\n",
            "|                               |                      |                  N/A |\n",
            "+-------------------------------+----------------------+----------------------+\n",
            "                                                                               \n",
            "+-----------------------------------------------------------------------------+\n",
            "| Processes:                                                                  |\n",
            "|  GPU   GI   CI        PID   Type   Process name                  GPU Memory |\n",
            "|        ID   ID                                                   Usage      |\n",
            "|=============================================================================|\n",
            "|  No running processes found                                                 |\n",
            "+-----------------------------------------------------------------------------+\n"
          ]
        }
      ]
    },
    {
      "cell_type": "markdown",
      "source": [
        "# 1D Array"
      ],
      "metadata": {
        "id": "39jHE-2DRgth"
      }
    },
    {
      "cell_type": "code",
      "source": [
        "import torch\n",
        "\n",
        "# return evenly spaced values within a given interval\n",
        "range_arr_torch = torch.arange(10)\n",
        "print(\"An array given range is \\n\", range_arr_torch, \" with dimensions \", range_arr_torch.shape, \"\\n\")\n",
        "\n",
        "# return evenly spaced numbers over a specified interval\n",
        "linspace_arr_torch = torch.linspace(2.0, 3.0, steps=5)\n",
        "print(\"An evenly spaced array given range is \\n\", linspace_arr_torch, \" with dimensions \", linspace_arr_torch.shape, \"\\n\")\n"
      ],
      "metadata": {
        "colab": {
          "base_uri": "https://localhost:8080/"
        },
        "id": "hEN6Nf4ORQwn",
        "outputId": "4698ba0c-54c2-48b0-bfee-97ba214d50b2"
      },
      "execution_count": 6,
      "outputs": [
        {
          "output_type": "stream",
          "name": "stdout",
          "text": [
            "An array given range is \n",
            " tensor([0, 1, 2, 3, 4, 5, 6, 7, 8, 9])  with dimensions  torch.Size([10]) \n",
            "\n",
            "An evenly spaced array given range is \n",
            " tensor([2.0000, 2.2500, 2.5000, 2.7500, 3.0000])  with dimensions  torch.Size([5]) \n",
            "\n"
          ]
        }
      ]
    },
    {
      "cell_type": "code",
      "source": [
        "# Tensor with uniform distribution between 0 and 1\n",
        "uniform_tensor = torch.rand(10)\n",
        "print(\"Random tensor with elements sampled from a Uniform(0,1) distribution: \\n\", uniform_tensor, \"\\n with dimensions \", uniform_tensor.shape, \"\\n\")"
      ],
      "metadata": {
        "colab": {
          "base_uri": "https://localhost:8080/"
        },
        "id": "h7YVwXxtSgdw",
        "outputId": "fd3df4bc-edac-42fd-8a3c-7310fbc582c0"
      },
      "execution_count": 7,
      "outputs": [
        {
          "output_type": "stream",
          "name": "stdout",
          "text": [
            "Random tensor with elements sampled from a Uniform(0,1) distribution: \n",
            " tensor([0.1510, 0.6591, 0.5439, 0.2815, 0.5807, 0.6916, 0.8419, 0.9238, 0.7855,\n",
            "        0.4976]) \n",
            " with dimensions  torch.Size([10]) \n",
            "\n"
          ]
        }
      ]
    },
    {
      "cell_type": "code",
      "source": [
        "# Random tensor with normal distribution (mean=0, std=1)\n",
        "randn_tensor = torch.randn(10)\n",
        "print(\"Random tensor with elements sampled from a N(0,1) distribution: \\n\", randn_tensor, \"\\n with dimensions \", randn_tensor.shape, \"\\n\")"
      ],
      "metadata": {
        "colab": {
          "base_uri": "https://localhost:8080/"
        },
        "id": "5tt-H4EhTAvH",
        "outputId": "e975d177-effa-47b9-bb44-f38a36720226"
      },
      "execution_count": 8,
      "outputs": [
        {
          "output_type": "stream",
          "name": "stdout",
          "text": [
            "Random tensor with elements sampled from a N(0,1) distribution: \n",
            " tensor([ 0.1536, -2.0232, -0.5028, -1.7576, -0.4751,  1.0085, -1.4385,  0.2502,\n",
            "        -0.0292, -1.1402]) \n",
            " with dimensions  torch.Size([10]) \n",
            "\n"
          ]
        }
      ]
    },
    {
      "cell_type": "code",
      "source": [
        "# Tensor with all ones\n",
        "ones_tensor = torch.ones(10)\n",
        "print(\"Tensor with all elements set to 1: \\n\", ones_tensor, \"\\n with dimensions \", ones_tensor.shape, \"\\n\")"
      ],
      "metadata": {
        "colab": {
          "base_uri": "https://localhost:8080/"
        },
        "id": "7rkqIh8WTAsb",
        "outputId": "9375317f-cd6f-4ce8-be63-590291b42a5a"
      },
      "execution_count": 9,
      "outputs": [
        {
          "output_type": "stream",
          "name": "stdout",
          "text": [
            "Tensor with all elements set to 1: \n",
            " tensor([1., 1., 1., 1., 1., 1., 1., 1., 1., 1.]) \n",
            " with dimensions  torch.Size([10]) \n",
            "\n"
          ]
        }
      ]
    },
    {
      "cell_type": "code",
      "source": [
        "# Tensor with all zeros\n",
        "zeros_tensor = torch.zeros(10)\n",
        "print(\"Tensor with all elements set to 0: \\n\", zeros_tensor, \"\\n with dimensions \", zeros_tensor.shape, \"\\n\")"
      ],
      "metadata": {
        "colab": {
          "base_uri": "https://localhost:8080/"
        },
        "id": "n6eg8-UyTAp8",
        "outputId": "7b7988a3-2a8a-41ec-a9ab-e56b36ea9bdd"
      },
      "execution_count": 10,
      "outputs": [
        {
          "output_type": "stream",
          "name": "stdout",
          "text": [
            "Tensor with all elements set to 0: \n",
            " tensor([0., 0., 0., 0., 0., 0., 0., 0., 0., 0.]) \n",
            " with dimensions  torch.Size([10]) \n",
            "\n"
          ]
        }
      ]
    },
    {
      "cell_type": "code",
      "source": [
        "# Tensor from list\n",
        "list_tensor = torch.tensor([1, 2, 3, 4, 5])\n",
        "print(\"Tensor created from a list: \\n\", list_tensor, \"\\n with dimensions \", list_tensor.shape, \"\\n\")"
      ],
      "metadata": {
        "colab": {
          "base_uri": "https://localhost:8080/"
        },
        "id": "eu5YIfGATAnk",
        "outputId": "c6162afa-4004-4be1-ad96-c40f26914571"
      },
      "execution_count": 11,
      "outputs": [
        {
          "output_type": "stream",
          "name": "stdout",
          "text": [
            "Tensor created from a list: \n",
            " tensor([1, 2, 3, 4, 5]) \n",
            " with dimensions  torch.Size([5]) \n",
            "\n"
          ]
        }
      ]
    },
    {
      "cell_type": "code",
      "source": [
        "# Cloning a tensor\n",
        "cloned_tensor = list_tensor.clone()\n",
        "print(\"Cloned tensor: \\n\", cloned_tensor, \"\\n with dimensions \", cloned_tensor.shape, \"\\n\")"
      ],
      "metadata": {
        "colab": {
          "base_uri": "https://localhost:8080/"
        },
        "id": "4WbV3GiyTAkj",
        "outputId": "4e003a63-b506-4e3b-a599-53d5c52859ad"
      },
      "execution_count": 12,
      "outputs": [
        {
          "output_type": "stream",
          "name": "stdout",
          "text": [
            "Cloned tensor: \n",
            " tensor([1, 2, 3, 4, 5]) \n",
            " with dimensions  torch.Size([5]) \n",
            "\n"
          ]
        }
      ]
    },
    {
      "cell_type": "code",
      "source": [
        "# Tensor with no autograd tracking通常用於推論時，不須gradint\n",
        "with torch.no_grad():\n",
        "    no_grad_tensor = torch.tensor([1, 2, 3], dtype=torch.float32)\n",
        "print(\"Tensor with no autograd tracking: \\n\", no_grad_tensor, \"\\n with dimensions \", no_grad_tensor.shape, \"\\n\")"
      ],
      "metadata": {
        "colab": {
          "base_uri": "https://localhost:8080/"
        },
        "id": "jtowwdAZTAdX",
        "outputId": "11a14c7c-1617-47dc-a4ff-800a288dfa7c"
      },
      "execution_count": 13,
      "outputs": [
        {
          "output_type": "stream",
          "name": "stdout",
          "text": [
            "Tensor with no autograd tracking: \n",
            " tensor([1., 2., 3.]) \n",
            " with dimensions  torch.Size([3]) \n",
            "\n"
          ]
        }
      ]
    },
    {
      "cell_type": "code",
      "source": [
        "# Tensor with requires_grad=True\n",
        "grad_tensor = torch.tensor([1, 2, 3], dtype=torch.float32, requires_grad=True)\n",
        "print(\"Tensor with requires_grad=True: \\n\", grad_tensor, \"\\n with dimensions \", grad_tensor.shape, \"\\n\")"
      ],
      "metadata": {
        "colab": {
          "base_uri": "https://localhost:8080/"
        },
        "id": "VwQt1uGFTF_V",
        "outputId": "6d169559-a537-4a76-ef87-db0730e84361"
      },
      "execution_count": 14,
      "outputs": [
        {
          "output_type": "stream",
          "name": "stdout",
          "text": [
            "Tensor with requires_grad=True: \n",
            " tensor([1., 2., 3.], requires_grad=True) \n",
            " with dimensions  torch.Size([3]) \n",
            "\n"
          ]
        }
      ]
    },
    {
      "cell_type": "markdown",
      "source": [
        "# Multi-Dimensional Tensor"
      ],
      "metadata": {
        "id": "9WdXHWXtT0di"
      }
    },
    {
      "cell_type": "code",
      "source": [
        "# Tensor with all zeros (shape: 3x4)\n",
        "zeros_tensor = torch.zeros(3, 4)\n",
        "print(\"Tensor with all elements set to 0: \\n\", zeros_tensor, \"\\n with dimensions \", zeros_tensor.shape, \"\\n\")\n",
        "\n",
        "# Tensor with all ones (shape: 3x4)\n",
        "ones_tensor = torch.ones(3, 4)\n",
        "print(\"Tensor with all elements set to 1: \\n\", ones_tensor, \"\\n with dimensions \", ones_tensor.shape, \"\\n\")\n",
        "\n",
        "# Tensor with all elements set to a specific value, e.g., 7 (shape: 3x4)\n",
        "full_tensor = torch.full((3, 4), 7)\n",
        "print(\"Tensor with all elements set to a specific value (7): \\n\", full_tensor, \"\\n with dimensions \", full_tensor.shape, \"\\n\")\n",
        "\n",
        "# Tensor with random values sampled from a uniform distribution between 0 and 1 (shape: 3x4)\n",
        "rand_tensor = torch.rand(3, 4)\n",
        "print(\"Random tensor with elements sampled from a Uniform(0,1) distribution: \\n\", rand_tensor, \"\\n with dimensions \", rand_tensor.shape, \"\\n\")\n"
      ],
      "metadata": {
        "colab": {
          "base_uri": "https://localhost:8080/"
        },
        "id": "IQdfW8F1TF4H",
        "outputId": "7048e704-a4e6-4aec-f68b-f1e2bcc9ef09"
      },
      "execution_count": 15,
      "outputs": [
        {
          "output_type": "stream",
          "name": "stdout",
          "text": [
            "Tensor with all elements set to 0: \n",
            " tensor([[0., 0., 0., 0.],\n",
            "        [0., 0., 0., 0.],\n",
            "        [0., 0., 0., 0.]]) \n",
            " with dimensions  torch.Size([3, 4]) \n",
            "\n",
            "Tensor with all elements set to 1: \n",
            " tensor([[1., 1., 1., 1.],\n",
            "        [1., 1., 1., 1.],\n",
            "        [1., 1., 1., 1.]]) \n",
            " with dimensions  torch.Size([3, 4]) \n",
            "\n",
            "Tensor with all elements set to a specific value (7): \n",
            " tensor([[7, 7, 7, 7],\n",
            "        [7, 7, 7, 7],\n",
            "        [7, 7, 7, 7]]) \n",
            " with dimensions  torch.Size([3, 4]) \n",
            "\n",
            "Random tensor with elements sampled from a Uniform(0,1) distribution: \n",
            " tensor([[0.6773, 0.7134, 0.2543, 0.6772],\n",
            "        [0.5040, 0.7277, 0.0235, 0.9553],\n",
            "        [0.8690, 0.1434, 0.2877, 0.7792]]) \n",
            " with dimensions  torch.Size([3, 4]) \n",
            "\n"
          ]
        }
      ]
    },
    {
      "cell_type": "code",
      "source": [
        "# Existing tensor (shape: 300x400)\n",
        "existing_tensor = torch.rand(300, 400)\n",
        "\n",
        "# Tensor with all zeros, having the same shape as the existing large tensor\n",
        "zeros_like_tensor = torch.zeros_like(existing_tensor)\n",
        "print(\"Tensor with all elements set to 0, like the existing large tensor: \\n\", zeros_like_tensor, \"\\n with dimensions \", zeros_like_tensor.shape, \"\\n\")\n",
        "\n",
        "# Tensor with all ones, having the same shape as the existing large tensor\n",
        "ones_like_tensor = torch.ones_like(existing_tensor)\n",
        "print(\"Tensor with all elements set to 1, like the existing large tensor: \\n\", ones_like_tensor, \"\\n with dimensions \", ones_like_tensor.shape, \"\\n\")\n",
        "\n",
        "# Tensor with all elements set to a specific value, e.g., 7, having the same shape as the existing large tensor\n",
        "full_like_tensor = torch.full_like(existing_tensor, 7)\n",
        "print(\"Tensor with all elements set to a specific value (7), like the existing large tensor: \\n\", full_like_tensor, \"\\n with dimensions \", full_like_tensor.shape, \"\\n\")"
      ],
      "metadata": {
        "colab": {
          "base_uri": "https://localhost:8080/"
        },
        "id": "A162rhcBTF1h",
        "outputId": "7b41efae-3248-4d31-ff60-b931bd2c400d"
      },
      "execution_count": 16,
      "outputs": [
        {
          "output_type": "stream",
          "name": "stdout",
          "text": [
            "Tensor with all elements set to 0, like the existing large tensor: \n",
            " tensor([[0., 0., 0.,  ..., 0., 0., 0.],\n",
            "        [0., 0., 0.,  ..., 0., 0., 0.],\n",
            "        [0., 0., 0.,  ..., 0., 0., 0.],\n",
            "        ...,\n",
            "        [0., 0., 0.,  ..., 0., 0., 0.],\n",
            "        [0., 0., 0.,  ..., 0., 0., 0.],\n",
            "        [0., 0., 0.,  ..., 0., 0., 0.]]) \n",
            " with dimensions  torch.Size([300, 400]) \n",
            "\n",
            "Tensor with all elements set to 1, like the existing large tensor: \n",
            " tensor([[1., 1., 1.,  ..., 1., 1., 1.],\n",
            "        [1., 1., 1.,  ..., 1., 1., 1.],\n",
            "        [1., 1., 1.,  ..., 1., 1., 1.],\n",
            "        ...,\n",
            "        [1., 1., 1.,  ..., 1., 1., 1.],\n",
            "        [1., 1., 1.,  ..., 1., 1., 1.],\n",
            "        [1., 1., 1.,  ..., 1., 1., 1.]]) \n",
            " with dimensions  torch.Size([300, 400]) \n",
            "\n",
            "Tensor with all elements set to a specific value (7), like the existing large tensor: \n",
            " tensor([[7., 7., 7.,  ..., 7., 7., 7.],\n",
            "        [7., 7., 7.,  ..., 7., 7., 7.],\n",
            "        [7., 7., 7.,  ..., 7., 7., 7.],\n",
            "        ...,\n",
            "        [7., 7., 7.,  ..., 7., 7., 7.],\n",
            "        [7., 7., 7.,  ..., 7., 7., 7.],\n",
            "        [7., 7., 7.,  ..., 7., 7., 7.]]) \n",
            " with dimensions  torch.Size([300, 400]) \n",
            "\n"
          ]
        }
      ]
    },
    {
      "cell_type": "code",
      "source": [
        "import numpy as np\n",
        "\n",
        "# Create a NumPy ndarray (shape: 3x4)\n",
        "ndarray = np.array([[1, 2, 3, 4], [5, 6, 7, 8], [9, 10, 11, 12]])\n",
        "\n",
        "# Create a PyTorch tensor from the NumPy ndarray\n",
        "tensor_from_ndarray = torch.tensor(ndarray)\n",
        "print(\"Tensor created from a NumPy ndarray: \\n\", tensor_from_ndarray, \"\\n with dimensions \", tensor_from_ndarray.shape, \"\\n\")\n"
      ],
      "metadata": {
        "colab": {
          "base_uri": "https://localhost:8080/"
        },
        "id": "94WlxtnFUb90",
        "outputId": "048dc86f-a139-48f8-a0f3-9bd931107fb9"
      },
      "execution_count": 17,
      "outputs": [
        {
          "output_type": "stream",
          "name": "stdout",
          "text": [
            "Tensor created from a NumPy ndarray: \n",
            " tensor([[ 1,  2,  3,  4],\n",
            "        [ 5,  6,  7,  8],\n",
            "        [ 9, 10, 11, 12]]) \n",
            " with dimensions  torch.Size([3, 4]) \n",
            "\n"
          ]
        }
      ]
    },
    {
      "cell_type": "code",
      "source": [
        "# Create an example tensor (shape: 3x4)\n",
        "x = torch.tensor([[1, 2, 3, 4], [5, 6, 7, 8], [9, 10, 11, 12]])\n",
        "\n",
        "# Get dimensions of tensor x\n",
        "print(\"Size of x: \", x.size(), \"\\n\")\n",
        "\n",
        "# Concatenate tensors (example: along dimension 0)\n",
        "tensor_seq = [torch.tensor([13, 14, 15, 16]), torch.tensor([17, 18, 19, 20])]\n",
        "x_cat = torch.cat(tensor_seq, dim=0)\n",
        "print(\"Concatenated tensor x_cat: \\n\", x_cat, \"\\n with dimensions \", x_cat.shape, \"\\n\")\n",
        "\n",
        "# Reshape tensor\n",
        "y_reshape = x.view(2, 6)\n",
        "print(\"Reshaped tensor y: \\n\", y_reshape, \"\\n with dimensions \", y_reshape.shape, \"\\n\")\n",
        "\n",
        "# Reshape with inferred dimension 若其中一個未知可設-1\n",
        "y_infer = x.view(-1, 6)\n",
        "print(\"Reshaped tensor with inferred dimension y: \\n\", y_infer, \"\\n with dimensions \", y_infer.shape, \"\\n\")\n",
        "\n",
        "# Transpose tensor\n",
        "y_transpose = x.transpose(0, 1)\n",
        "print(\"Transposed tensor y: \\n\", y_transpose, \"\\n with dimensions \", y_transpose.shape, \"\\n\")\n",
        "\n",
        "# Permute dimensions\n",
        "y_permute = x.permute(1, 0)\n",
        "print(\"Permuted tensor y: \\n\", y_permute, \"\\n with dimensions \", y_permute.shape, \"\\n\")\n",
        "\n",
        "# Add dimension\n",
        "y_unsqueeze = x.unsqueeze(dim=0)\n",
        "print(\"Unsqueezed tensor y: \\n\", y_unsqueeze, \"\\n with dimensions \", y_unsqueeze.shape, \"\\n\")\n",
        "\n",
        "# Add dimension at specified index\n",
        "y_unsqueeze_specific = x.unsqueeze(dim=2)\n",
        "print(\"Specifically unsqueezed tensor y: \\n\", y_unsqueeze_specific, \"\\n with dimensions \", y_unsqueeze_specific.shape, \"\\n\")\n",
        "\n",
        "# Remove dimensions of size 1\n",
        "y_squeeze = y_unsqueeze_specific.squeeze()\n",
        "print(\"Squeezed tensor y: \\n\", y_squeeze, \"\\n with dimensions \", y_squeeze.shape, \"\\n\")\n",
        "\n",
        "# Remove specified dimensions of size 1\n",
        "y_squeeze_specific = y_unsqueeze_specific.squeeze(dim=2)\n",
        "print(\"Specifically squeezed tensor y: \\n\", y_squeeze_specific, \"\\n with dimensions \", y_squeeze_specific.shape, \"\\n\")"
      ],
      "metadata": {
        "colab": {
          "base_uri": "https://localhost:8080/"
        },
        "id": "7A5vIhWOUx7K",
        "outputId": "ae943078-09b3-4da4-91d9-35fb45d67b02"
      },
      "execution_count": 18,
      "outputs": [
        {
          "output_type": "stream",
          "name": "stdout",
          "text": [
            "Size of x:  torch.Size([3, 4]) \n",
            "\n",
            "Concatenated tensor x_cat: \n",
            " tensor([13, 14, 15, 16, 17, 18, 19, 20]) \n",
            " with dimensions  torch.Size([8]) \n",
            "\n",
            "Reshaped tensor y: \n",
            " tensor([[ 1,  2,  3,  4,  5,  6],\n",
            "        [ 7,  8,  9, 10, 11, 12]]) \n",
            " with dimensions  torch.Size([2, 6]) \n",
            "\n",
            "Reshaped tensor with inferred dimension y: \n",
            " tensor([[ 1,  2,  3,  4,  5,  6],\n",
            "        [ 7,  8,  9, 10, 11, 12]]) \n",
            " with dimensions  torch.Size([2, 6]) \n",
            "\n",
            "Transposed tensor y: \n",
            " tensor([[ 1,  5,  9],\n",
            "        [ 2,  6, 10],\n",
            "        [ 3,  7, 11],\n",
            "        [ 4,  8, 12]]) \n",
            " with dimensions  torch.Size([4, 3]) \n",
            "\n",
            "Permuted tensor y: \n",
            " tensor([[ 1,  5,  9],\n",
            "        [ 2,  6, 10],\n",
            "        [ 3,  7, 11],\n",
            "        [ 4,  8, 12]]) \n",
            " with dimensions  torch.Size([4, 3]) \n",
            "\n",
            "Unsqueezed tensor y: \n",
            " tensor([[[ 1,  2,  3,  4],\n",
            "         [ 5,  6,  7,  8],\n",
            "         [ 9, 10, 11, 12]]]) \n",
            " with dimensions  torch.Size([1, 3, 4]) \n",
            "\n",
            "Specifically unsqueezed tensor y: \n",
            " tensor([[[ 1],\n",
            "         [ 2],\n",
            "         [ 3],\n",
            "         [ 4]],\n",
            "\n",
            "        [[ 5],\n",
            "         [ 6],\n",
            "         [ 7],\n",
            "         [ 8]],\n",
            "\n",
            "        [[ 9],\n",
            "         [10],\n",
            "         [11],\n",
            "         [12]]]) \n",
            " with dimensions  torch.Size([3, 4, 1]) \n",
            "\n",
            "Squeezed tensor y: \n",
            " tensor([[ 1,  2,  3,  4],\n",
            "        [ 5,  6,  7,  8],\n",
            "        [ 9, 10, 11, 12]]) \n",
            " with dimensions  torch.Size([3, 4]) \n",
            "\n",
            "Specifically squeezed tensor y: \n",
            " tensor([[ 1,  2,  3,  4],\n",
            "        [ 5,  6,  7,  8],\n",
            "        [ 9, 10, 11, 12]]) \n",
            " with dimensions  torch.Size([3, 4]) \n",
            "\n"
          ]
        }
      ]
    },
    {
      "cell_type": "code",
      "source": [
        "# Create a 3D tensor (shape: 2x3x4)\n",
        "x_3d = torch.tensor([[[1, 2, 3, 4], [5, 6, 7, 8], [9, 10, 11, 12]],\n",
        "                     [[13, 14, 15, 16], [17, 18, 19, 20], [21, 22, 23, 24]]])\n",
        "\n",
        "# Get dimensions of 3D tensor x_3d\n",
        "print(\"Size of x_3d: \", x_3d.size(), \"\\n\")\n",
        "\n",
        "# Transpose 3D tensor (swap dimensions 0 and 1)\n",
        "y_transpose_3d = x_3d.transpose(0, 1)\n",
        "print(\"Transposed 3D tensor y: \\n\", y_transpose_3d, \"\\n with dimensions \", y_transpose_3d.shape, \"\\n\")\n",
        "\n",
        "# Permute dimensions of 3D tensor (new order: 1, 0, 2) permute與transpose結果相同,但在多維時permute易讀性較好\n",
        "y_permute_3d = x_3d.permute(1, 0, 2)\n",
        "print(\"Permuted 3D tensor y: \\n\", y_permute_3d, \"\\n with dimensions \", y_permute_3d.shape, \"\\n\")"
      ],
      "metadata": {
        "colab": {
          "base_uri": "https://localhost:8080/"
        },
        "id": "RjpKvuT_WfpK",
        "outputId": "f0a7218a-f92f-45ec-cd6d-28555832de2e"
      },
      "execution_count": 19,
      "outputs": [
        {
          "output_type": "stream",
          "name": "stdout",
          "text": [
            "Size of x_3d:  torch.Size([2, 3, 4]) \n",
            "\n",
            "Transposed 3D tensor y: \n",
            " tensor([[[ 1,  2,  3,  4],\n",
            "         [13, 14, 15, 16]],\n",
            "\n",
            "        [[ 5,  6,  7,  8],\n",
            "         [17, 18, 19, 20]],\n",
            "\n",
            "        [[ 9, 10, 11, 12],\n",
            "         [21, 22, 23, 24]]]) \n",
            " with dimensions  torch.Size([3, 2, 4]) \n",
            "\n",
            "Permuted 3D tensor y: \n",
            " tensor([[[ 1,  2,  3,  4],\n",
            "         [13, 14, 15, 16]],\n",
            "\n",
            "        [[ 5,  6,  7,  8],\n",
            "         [17, 18, 19, 20]],\n",
            "\n",
            "        [[ 9, 10, 11, 12],\n",
            "         [21, 22, 23, 24]]]) \n",
            " with dimensions  torch.Size([3, 2, 4]) \n",
            "\n"
          ]
        }
      ]
    },
    {
      "cell_type": "markdown",
      "source": [
        "# Debugging in Python\n",
        "* Syntax Error -> ChatGPT\n",
        "* Runtime Error -> IPython pdb (ipdb)\n",
        "* Tensor Error -> ipdb\n",
        "* GPU-related Error -> Next Recitation"
      ],
      "metadata": {
        "id": "HlGMfaHCzwyG"
      }
    },
    {
      "cell_type": "code",
      "source": [
        "!pip install ipdb\n",
        "import ipdb"
      ],
      "metadata": {
        "colab": {
          "base_uri": "https://localhost:8080/"
        },
        "id": "MfSk2zdq0UHK",
        "outputId": "f33e4d6e-8357-4796-c8ce-6af75ab6ed5a"
      },
      "execution_count": 20,
      "outputs": [
        {
          "output_type": "stream",
          "name": "stdout",
          "text": [
            "Collecting ipdb\n",
            "  Downloading ipdb-0.13.13-py3-none-any.whl (12 kB)\n",
            "Requirement already satisfied: ipython>=7.31.1 in /usr/local/lib/python3.10/dist-packages (from ipdb) (7.34.0)\n",
            "Requirement already satisfied: tomli in /usr/local/lib/python3.10/dist-packages (from ipdb) (2.0.1)\n",
            "Requirement already satisfied: decorator in /usr/local/lib/python3.10/dist-packages (from ipdb) (4.4.2)\n",
            "Requirement already satisfied: setuptools>=18.5 in /usr/local/lib/python3.10/dist-packages (from ipython>=7.31.1->ipdb) (67.7.2)\n",
            "Collecting jedi>=0.16 (from ipython>=7.31.1->ipdb)\n",
            "  Downloading jedi-0.19.0-py2.py3-none-any.whl (1.6 MB)\n",
            "\u001b[2K     \u001b[90m━━━━━━━━━━━━━━━━━━━━━━━━━━━━━━━━━━━━━━━━\u001b[0m \u001b[32m1.6/1.6 MB\u001b[0m \u001b[31m16.4 MB/s\u001b[0m eta \u001b[36m0:00:00\u001b[0m\n",
            "\u001b[?25hRequirement already satisfied: pickleshare in /usr/local/lib/python3.10/dist-packages (from ipython>=7.31.1->ipdb) (0.7.5)\n",
            "Requirement already satisfied: traitlets>=4.2 in /usr/local/lib/python3.10/dist-packages (from ipython>=7.31.1->ipdb) (5.7.1)\n",
            "Requirement already satisfied: prompt-toolkit!=3.0.0,!=3.0.1,<3.1.0,>=2.0.0 in /usr/local/lib/python3.10/dist-packages (from ipython>=7.31.1->ipdb) (3.0.39)\n",
            "Requirement already satisfied: pygments in /usr/local/lib/python3.10/dist-packages (from ipython>=7.31.1->ipdb) (2.16.1)\n",
            "Requirement already satisfied: backcall in /usr/local/lib/python3.10/dist-packages (from ipython>=7.31.1->ipdb) (0.2.0)\n",
            "Requirement already satisfied: matplotlib-inline in /usr/local/lib/python3.10/dist-packages (from ipython>=7.31.1->ipdb) (0.1.6)\n",
            "Requirement already satisfied: pexpect>4.3 in /usr/local/lib/python3.10/dist-packages (from ipython>=7.31.1->ipdb) (4.8.0)\n",
            "Requirement already satisfied: parso<0.9.0,>=0.8.3 in /usr/local/lib/python3.10/dist-packages (from jedi>=0.16->ipython>=7.31.1->ipdb) (0.8.3)\n",
            "Requirement already satisfied: ptyprocess>=0.5 in /usr/local/lib/python3.10/dist-packages (from pexpect>4.3->ipython>=7.31.1->ipdb) (0.7.0)\n",
            "Requirement already satisfied: wcwidth in /usr/local/lib/python3.10/dist-packages (from prompt-toolkit!=3.0.0,!=3.0.1,<3.1.0,>=2.0.0->ipython>=7.31.1->ipdb) (0.2.6)\n",
            "Installing collected packages: jedi, ipdb\n",
            "Successfully installed ipdb-0.13.13 jedi-0.19.0\n"
          ]
        }
      ]
    },
    {
      "cell_type": "markdown",
      "source": [
        "# 常用的 ipdb 指令解釋：\n",
        "\n",
        "- `n`（next）：繼續執行，直到達到當前函數中的下一行，或者它返回。\n",
        "- `c`（continue）：繼續執行，僅在遇到斷點時停止。\n",
        "- `q`（quit）：退出調試器和程序。\n",
        "- `p`（print）：評估並列印表達式。\n",
        "- `l`（list）：列出當前文件的源代碼。\n",
        "- `s`（step）：執行當前行，並在第一個可能的場合停止（例如，在一個函數呼叫中）。"
      ],
      "metadata": {
        "id": "C206Qt_e0j6x"
      }
    },
    {
      "cell_type": "markdown",
      "source": [
        "使用 `ipdb` 的方法有多種，以下是一些常見的使用案例：\n",
        "\n",
        "1. **啟動調試模式**：直接在命令行中輸入以下指令來啟動 `ipdb` 調試模式。\n",
        "    ```bash\n",
        "    python -m ipdb your_script.py\n",
        "    ```\n",
        "    這會在腳本的開始處暫停執行，允許你逐步執行代碼。\n",
        "\n",
        "2. **自動繼續執行**：如果你只想在設置了斷點（breakpoint）的地方暫停，則可以使用以下指令(較推薦)：\n",
        "    ```bash\n",
        "    python -m ipdb -c continue your_script.py\n",
        "    ```\n",
        "    使用 `-c continue` 會讓腳本在啟動後自動繼續執行，直到達到第一個斷點或是報錯點。\n",
        "\n",
        "3. **指定執行參數**：如果你的腳本需要傳入參數，可以這麼做：\n",
        "    ```bash\n",
        "    python -m ipdb your_script.py --your-arg value\n",
        "    ```\n",
        "    只需正常地將參數放在腳本名稱後面即可\n",
        "\n",
        "4. **使用條件斷點**：在你的腳本中，你可以添加 `ipdb.set_trace()` 方法來設置斷點。要讓斷點有條件地觸發，可以這樣使用：\n",
        "    ```python\n",
        "    if some_condition:\n",
        "        ipdb.set_trace()\n",
        "    ```\n",
        "5. **例外時自動觸發調試**：如果你希望只在出現未捕獲的例外（exception）時啟動 `ipdb`，可以使用 `ipdb.launch_ipdb_on_exception()` 上下文管理器。這在嘗試調試偶爾出錯的代碼時特別有用。\n",
        "    ```python\n",
        "    with ipdb.launch_ipdb_on_exception():\n",
        "        main()\n",
        "        # 其他可能出錯的代碼...\n",
        "    ```\n",
        "    當 `main()` 函數或其他代碼塊拋出未捕獲的例外時，`ipdb` 會自動啟動，允許你立即檢查問題。\n",
        "\n",
        "這些是在命令行中使用 `ipdb` 的一些基本方法，有助於更有效地進行代碼調試。    "
      ],
      "metadata": {
        "id": "5Z17YJ0H0oNu"
      }
    },
    {
      "cell_type": "code",
      "source": [
        "import torch\n",
        "import torch.nn as nn\n",
        "import torch.optim as optim\n",
        "from torch.utils.data import DataLoader, TensorDataset\n",
        "\n",
        "# 生成假資料\n",
        "n_samples = 1000\n",
        "X = torch.rand(n_samples, 10)\n",
        "y = 3 * X.sum(dim=1) + 2 + torch.randn(n_samples)  # y = 3x + 2 + noise\n",
        "\n",
        "# 建立資料集和資料載入器\n",
        "dataset = TensorDataset(X, y)\n",
        "dataloader = DataLoader(dataset, batch_size=32, shuffle=True)\n",
        "\n",
        "# 定義一個簡單的 MLP 模型\n",
        "class SimpleMLP(nn.Module):\n",
        "    def __init__(self):\n",
        "        super(SimpleMLP, self).__init__()\n",
        "        self.fc1 = nn.Linear(10, 5)\n",
        "        self.fc2 = nn.Linear(5, 1)\n",
        "\n",
        "    def forward(self, x):\n",
        "        x = torch.relu(self.fc1(x))\n",
        "        x = self.fc2(x)\n",
        "        return x"
      ],
      "metadata": {
        "id": "1xkglv6BO7ow"
      },
      "execution_count": 21,
      "outputs": []
    },
    {
      "cell_type": "code",
      "source": [
        "# 初始化模型、損失函數和優化器\n",
        "model = SimpleMLP()\n",
        "criterion = nn.MSELoss()\n",
        "optimizer = optim.Adam(model.parameters(), lr=0.001)\n",
        "\n",
        "# 訓練模型\n",
        "for epoch in range(10):\n",
        "    for batch_X, batch_y in dataloader:\n",
        "        # 前向傳播\n",
        "        outputs = model(batch_X)\n",
        "        loss = criterion(outputs, batch_y)\n",
        "\n",
        "        # 反向傳播和優化\n",
        "        optimizer.zero_grad()\n",
        "        loss.backward()\n",
        "        optimizer.step()\n",
        "\n",
        "    print(f\"Epoch [{epoch+1}/10], Loss: {loss.item():.4f}\")\n",
        "\n",
        "print(\"Training complete.\")"
      ],
      "metadata": {
        "colab": {
          "base_uri": "https://localhost:8080/"
        },
        "id": "KFZHIHXi2K2A",
        "outputId": "59f72b41-c4b8-4316-f164-5e61e7d40d2b"
      },
      "execution_count": 22,
      "outputs": [
        {
          "output_type": "stream",
          "name": "stderr",
          "text": [
            "/usr/local/lib/python3.10/dist-packages/torch/nn/modules/loss.py:536: UserWarning: Using a target size (torch.Size([32])) that is different to the input size (torch.Size([32, 1])). This will likely lead to incorrect results due to broadcasting. Please ensure they have the same size.\n",
            "  return F.mse_loss(input, target, reduction=self.reduction)\n",
            "/usr/local/lib/python3.10/dist-packages/torch/nn/modules/loss.py:536: UserWarning: Using a target size (torch.Size([8])) that is different to the input size (torch.Size([8, 1])). This will likely lead to incorrect results due to broadcasting. Please ensure they have the same size.\n",
            "  return F.mse_loss(input, target, reduction=self.reduction)\n"
          ]
        },
        {
          "output_type": "stream",
          "name": "stdout",
          "text": [
            "Epoch [1/10], Loss: 300.7335\n",
            "Epoch [2/10], Loss: 293.5302\n",
            "Epoch [3/10], Loss: 267.8541\n",
            "Epoch [4/10], Loss: 266.3002\n",
            "Epoch [5/10], Loss: 204.2087\n",
            "Epoch [6/10], Loss: 256.6226\n",
            "Epoch [7/10], Loss: 181.4627\n",
            "Epoch [8/10], Loss: 204.5943\n",
            "Epoch [9/10], Loss: 179.7415\n",
            "Epoch [10/10], Loss: 178.4248\n",
            "Training complete.\n"
          ]
        }
      ]
    },
    {
      "cell_type": "code",
      "source": [
        "print(f\"Model is on: {next(model.parameters()).device}\")#model是存在cpu"
      ],
      "metadata": {
        "colab": {
          "base_uri": "https://localhost:8080/"
        },
        "id": "LslKBxs22iXY",
        "outputId": "f0b95a28-9c79-4c62-c79a-50b51389bbbf"
      },
      "execution_count": 23,
      "outputs": [
        {
          "output_type": "stream",
          "name": "stdout",
          "text": [
            "Model is on: cpu\n"
          ]
        }
      ]
    },
    {
      "cell_type": "code",
      "source": [
        "!nvidia-smi\n",
        "device = torch.device(\"cuda:0\")"
      ],
      "metadata": {
        "colab": {
          "base_uri": "https://localhost:8080/"
        },
        "id": "vXnUuQqA2gT8",
        "outputId": "28e1289f-0a1d-4c7a-946b-36b7c9bb3fd0"
      },
      "execution_count": 24,
      "outputs": [
        {
          "output_type": "stream",
          "name": "stdout",
          "text": [
            "Thu Sep  7 04:02:09 2023       \n",
            "+-----------------------------------------------------------------------------+\n",
            "| NVIDIA-SMI 525.105.17   Driver Version: 525.105.17   CUDA Version: 12.0     |\n",
            "|-------------------------------+----------------------+----------------------+\n",
            "| GPU  Name        Persistence-M| Bus-Id        Disp.A | Volatile Uncorr. ECC |\n",
            "| Fan  Temp  Perf  Pwr:Usage/Cap|         Memory-Usage | GPU-Util  Compute M. |\n",
            "|                               |                      |               MIG M. |\n",
            "|===============================+======================+======================|\n",
            "|   0  Tesla T4            Off  | 00000000:00:04.0 Off |                    0 |\n",
            "| N/A   43C    P8    11W /  70W |      3MiB / 15360MiB |      0%      Default |\n",
            "|                               |                      |                  N/A |\n",
            "+-------------------------------+----------------------+----------------------+\n",
            "                                                                               \n",
            "+-----------------------------------------------------------------------------+\n",
            "| Processes:                                                                  |\n",
            "|  GPU   GI   CI        PID   Type   Process name                  GPU Memory |\n",
            "|        ID   ID                                                   Usage      |\n",
            "|=============================================================================|\n",
            "|  No running processes found                                                 |\n",
            "+-----------------------------------------------------------------------------+\n"
          ]
        }
      ]
    },
    {
      "cell_type": "code",
      "source": [
        "# 初始化模型、損失函數和優化器\n",
        "import ipdb\n",
        "model = SimpleMLP()\n",
        "criterion = nn.MSELoss()\n",
        "optimizer = optim.Adam(model.parameters(), lr=0.001)\n",
        "\n",
        "model = model.to(device)\n",
        "\n",
        "# 訓練模型\n",
        "for epoch in range(10):\n",
        "    for batch_X, batch_y in dataloader:\n",
        "        # 前向傳播\n",
        "        # ipdb.set_trace()#設置斷點下面會有對話輸入框，按q可跳出，c則繼續執行下面一個\n",
        "\n",
        "        batch_X=batch_X.to(device)#debug增加此行\n",
        "        batch_y =batch_y.to(device)#debug後增加此行\n",
        "        outputs = model(batch_X)\n",
        "        loss = criterion(outputs, batch_y)\n",
        "\n",
        "        # 反向傳播和優化\n",
        "        optimizer.zero_grad()\n",
        "        loss.backward()\n",
        "        optimizer.step()\n",
        "\n",
        "    print(f\"Epoch [{epoch+1}/10], Loss: {loss.item():.4f}\")\n",
        "\n",
        "print(\"Training complete.\")"
      ],
      "metadata": {
        "id": "dKL1Kwlq2SPY",
        "colab": {
          "base_uri": "https://localhost:8080/"
        },
        "outputId": "4219215d-c510-4aff-a456-00b52f0e00d5"
      },
      "execution_count": 28,
      "outputs": [
        {
          "output_type": "stream",
          "name": "stderr",
          "text": [
            "/usr/local/lib/python3.10/dist-packages/torch/nn/modules/loss.py:536: UserWarning: Using a target size (torch.Size([32])) that is different to the input size (torch.Size([32, 1])). This will likely lead to incorrect results due to broadcasting. Please ensure they have the same size.\n",
            "  return F.mse_loss(input, target, reduction=self.reduction)\n",
            "/usr/local/lib/python3.10/dist-packages/torch/nn/modules/loss.py:536: UserWarning: Using a target size (torch.Size([8])) that is different to the input size (torch.Size([8, 1])). This will likely lead to incorrect results due to broadcasting. Please ensure they have the same size.\n",
            "  return F.mse_loss(input, target, reduction=self.reduction)\n"
          ]
        },
        {
          "output_type": "stream",
          "name": "stdout",
          "text": [
            "Epoch [1/10], Loss: 319.4671\n",
            "Epoch [2/10], Loss: 253.7823\n",
            "Epoch [3/10], Loss: 280.4612\n",
            "Epoch [4/10], Loss: 255.8713\n",
            "Epoch [5/10], Loss: 321.0146\n",
            "Epoch [6/10], Loss: 278.0648\n",
            "Epoch [7/10], Loss: 306.3715\n",
            "Epoch [8/10], Loss: 228.6772\n",
            "Epoch [9/10], Loss: 193.0159\n",
            "Epoch [10/10], Loss: 217.4543\n",
            "Training complete.\n"
          ]
        }
      ]
    }
  ]
}